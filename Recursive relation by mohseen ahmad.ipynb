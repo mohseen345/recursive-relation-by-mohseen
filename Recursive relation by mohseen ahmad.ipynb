{
 "cells": [
  {
   "cell_type": "markdown",
   "metadata": {},
   "source": [
    "1 Find the val%e of T(2) for the rec%rrence relation T(n) = 3T(n-1) + 12n, given that T(0)=5."
   ]
  },
  {
   "cell_type": "code",
   "execution_count": 1,
   "metadata": {},
   "outputs": [
    {
     "name": "stdout",
     "output_type": "stream",
     "text": [
      "T(2) = 105\n"
     ]
    }
   ],
   "source": [
    "def T(n):\n",
    "    if n == 0:\n",
    "        return 5\n",
    "    else:\n",
    "        return 3 * T(n - 1) + 12 * n\n",
    "\n",
    "# Calculate T(2)\n",
    "result = T(2)\n",
    "print(\"T(2) =\", result)\n"
   ]
  },
  {
   "cell_type": "markdown",
   "metadata": {},
   "source": [
    "2. Given a rec%rrence relation, solve it %sing the s%bstit%tion method:\n",
    "a. T(n) = T(n-1) + c\n",
    "b. T(n) = 2T(n/2) + n\n",
    "c. T(n) = 2T(n/2) + c\n",
    "d. T(n) = T(n/2) + c"
   ]
  },
  {
   "cell_type": "markdown",
   "metadata": {},
   "source": [
    "Let's solve each recurrence relation using the substitution method:\n",
    "\n",
    "### a. T(n) = T(n-1) + c\n",
    "\n",
    "**Substitution Method:**\n",
    "\n",
    "Assume \\( T(n) = S(n) \\).\n",
    "\n",
    "Substitute into the recurrence relation:\n",
    "\\[ S(n) = S(n-1) + c \\]\n",
    "\n",
    "To find a closed-form solution, expand this:\n",
    "\\[ S(n) = S(n-2) + c + c \\]\n",
    "\\[ S(n) = S(n-3) + c + c + c \\]\n",
    "\\[ \\ldots \\]\n",
    "\\[ S(n) = S(n-k) + kc \\]\n",
    "\n",
    "Setting \\( S(0) = T(0) = C \\):\n",
    "\\[ S(n) = C + nc \\]\n",
    "\n",
    "Therefore, the solution to the recurrence relation \\( T(n) = T(n-1) + c \\) is \\( \\boxed{T(n) = c + nc} \\).\n",
    "\n",
    "### b. T(n) = 2T(n/2) + n\n",
    "\n",
    "**Substitution Method:**\n",
    "\n",
    "Assume \\( T(n) = S(n) \\).\n",
    "\n",
    "Substitute into the recurrence relation:\n",
    "\\[ S(n) = 2S(n/2) + n \\]\n",
    "\n",
    "To find a closed-form solution, assume \\( n = 2^k \\):\n",
    "\\[ S(2^k) = 2S(2^{k-1}) + 2^k \\]\n",
    "\n",
    "Let \\( S(2^k) = U(k) \\):\n",
    "\\[ U(k) = 2U(k-1) + 2^k \\]\n",
    "\n",
    "Solve this recurrence relation using iterative expansion or master theorem.\n",
    "\n",
    "### c. T(n) = 2T(n/2) + c\n",
    "\n",
    "**Substitution Method:**\n",
    "\n",
    "Assume \\( T(n) = S(n) \\).\n",
    "\n",
    "Substitute into the recurrence relation:\n",
    "\\[ S(n) = 2S(n/2) + c \\]\n",
    "\n",
    "To find a closed-form solution, let's solve this iteratively or use the master theorem.\n",
    "\n",
    "### d. T(n) = T(n/2) + c\n",
    "\n",
    "**Substitution Method:**\n",
    "\n",
    "Assume \\( T(n) = S(n) \\).\n",
    "\n",
    "Substitute into the recurrence relation:\n",
    "\\[ S(n) = S(n/2) + c \\]\n",
    "\n",
    "To find a closed-form solution, expand this:\n",
    "\\[ S(n) = S(n/4) + c + c \\]\n",
    "\\[ S(n) = S(n/8) + c + c + c \\]\n",
    "\\[ \\ldots \\]\n",
    "\\[ S(n) = S(n/2^k) + kc \\]\n",
    "\n",
    "Setting \\( S(1) = T(1) = C \\):\n",
    "\\[ S(n) = C + \\log_2 n \\cdot c \\]\n",
    "\n",
    "Therefore, the solution to the recurrence relation \\( T(n) = T(n/2) + c \\) is \\( \\boxed{T(n) = c \\log_2 n + C} \\).\n",
    "\n",
    "These are the solutions using the substitution method for each given recurrence relation."
   ]
  },
  {
   "cell_type": "code",
   "execution_count": null,
   "metadata": {},
   "outputs": [],
   "source": [
    "def recurrence_a(n, c):\n",
    "    if n == 0:\n",
    "        return 0  # Base case, T(0) = 0 (assuming T(0) is not explicitly given)\n",
    "    else:\n",
    "        return recurrence_a(n - 1, c) + c\n",
    "\n",
    "# Example usage:\n",
    "n = 5\n",
    "c = 3\n",
    "result_a = recurrence_a(n, c)\n",
    "print(f\"T({n}) = {result_a}\")\n"
   ]
  },
  {
   "cell_type": "code",
   "execution_count": null,
   "metadata": {},
   "outputs": [],
   "source": [
    "def recurrence_b(n):\n",
    "    if n <= 1:\n",
    "        return n\n",
    "    else:\n",
    "        return 2 * recurrence_b(n // 2) + n\n",
    "\n",
    "# Example usage:\n",
    "n = 10\n",
    "result_b = recurrence_b(n)\n",
    "print(f\"T({n}) = {result_b}\")\n"
   ]
  },
  {
   "cell_type": "code",
   "execution_count": 3,
   "metadata": {},
   "outputs": [
    {
     "name": "stdout",
     "output_type": "stream",
     "text": [
      "T(8) = 60\n"
     ]
    }
   ],
   "source": [
    "def recurrence_c(n, c):\n",
    "    if n <= 1:\n",
    "        return c\n",
    "    else:\n",
    "        return 2 * recurrence_c(n // 2, c) + c\n",
    "\n",
    "# Example usage:\n",
    "n = 8\n",
    "c = 4\n",
    "result_c = recurrence_c(n, c)\n",
    "print(f\"T({n}) = {result_c}\")\n"
   ]
  },
  {
   "cell_type": "code",
   "execution_count": 2,
   "metadata": {},
   "outputs": [
    {
     "name": "stdout",
     "output_type": "stream",
     "text": [
      "T(16) = 10\n"
     ]
    }
   ],
   "source": [
    "def recurrence_d(n, c):\n",
    "    if n == 0:\n",
    "        return 0  # Base case, T(0) = 0 (assuming T(0) is not explicitly given)\n",
    "    else:\n",
    "        return recurrence_d(n // 2, c) + c\n",
    "\n",
    "# Example usage:\n",
    "n = 16\n",
    "c = 2\n",
    "result_d = recurrence_d(n, c)\n",
    "print(f\"T({n}) = {result_d}\")\n"
   ]
  },
  {
   "cell_type": "markdown",
   "metadata": {},
   "source": [
    "3. Given a rec%rrence relation, solve it %sing the rec%rsive tree approach:\n",
    "a. T(n) = 2T(n-1) +1\n",
    "b. T(n) = 2T(n/2) + n"
   ]
  },
  {
   "cell_type": "markdown",
   "metadata": {},
   "source": [
    "To solve the recurrence relations using the recursive tree approach, we visualize how the recurrence expands through successive levels until we reach the base case or until we identify a pattern that allows us to derive a closed-form solution. Let's solve each one:\n",
    "\n",
    "a. T(n) = 2T(n-1) + 1\n",
    "Recursive Tree Approach:\n",
    "To solve \n",
    "𝑇\n",
    "(\n",
    "𝑛\n",
    ")\n",
    "=\n",
    "2\n",
    "𝑇\n",
    "(\n",
    "𝑛\n",
    "−\n",
    "1\n",
    ")\n",
    "+\n",
    "1\n",
    "T(n)=2T(n−1)+1, we can visualize it as a recursion tree:\n",
    "\n",
    "Base Case: \n",
    "𝑇\n",
    "(\n",
    "0\n",
    ")\n",
    "T(0) or \n",
    "𝑇\n",
    "(\n",
    "1\n",
    ")\n",
    "T(1) (depending on where we start).\n",
    "\n",
    "Expansion:\n",
    "\n",
    "𝑇\n",
    "(\n",
    "𝑛\n",
    ")\n",
    "=\n",
    "2\n",
    "𝑇\n",
    "(\n",
    "𝑛\n",
    "−\n",
    "1\n",
    ")\n",
    "+\n",
    "1\n",
    "T(n)=2T(n−1)+1\n",
    "𝑇\n",
    "(\n",
    "𝑛\n",
    "−\n",
    "1\n",
    ")\n",
    "=\n",
    "2\n",
    "𝑇\n",
    "(\n",
    "𝑛\n",
    "−\n",
    "2\n",
    ")\n",
    "+\n",
    "1\n",
    "T(n−1)=2T(n−2)+1\n",
    "𝑇\n",
    "(\n",
    "𝑛\n",
    "−\n",
    "2\n",
    ")\n",
    "=\n",
    "2\n",
    "𝑇\n",
    "(\n",
    "𝑛\n",
    "−\n",
    "3\n",
    ")\n",
    "+\n",
    "1\n",
    "T(n−2)=2T(n−3)+1\n",
    "...\n",
    "𝑇\n",
    "(\n",
    "1\n",
    ")\n",
    "=\n",
    "2\n",
    "𝑇\n",
    "(\n",
    "0\n",
    ")\n",
    "+\n",
    "1\n",
    "T(1)=2T(0)+1\n",
    "Summation:\n",
    "\n",
    "Expand until you reach the base case \n",
    "𝑇\n",
    "(\n",
    "0\n",
    ")\n",
    "T(0).\n",
    "Using the recursive tree approach, we observe that each level adds 1 to the previous level's computation. The solution typically involves summing up the contributions from each level"
   ]
  },
  {
   "cell_type": "code",
   "execution_count": 5,
   "metadata": {},
   "outputs": [
    {
     "name": "stdout",
     "output_type": "stream",
     "text": [
      "T(5) = 31\n"
     ]
    }
   ],
   "source": [
    "def recurrence_a(n):\n",
    "    if n == 0:\n",
    "        return 0  # Base case, T(0) = 0\n",
    "    else:\n",
    "        return 2 * recurrence_a(n - 1) + 1\n",
    "\n",
    "# Example usage:\n",
    "n = 5\n",
    "result_a = recurrence_a(n)\n",
    "print(f\"T({n}) = {result_a}\")\n"
   ]
  },
  {
   "cell_type": "code",
   "execution_count": 6,
   "metadata": {},
   "outputs": [
    {
     "name": "stdout",
     "output_type": "stream",
     "text": [
      "T(8) = 32.0\n"
     ]
    }
   ],
   "source": [
    "def recurrence_b(n):\n",
    "    if n <= 1:\n",
    "        return n\n",
    "    else:\n",
    "        return 2 * recurrence_b(n / 2) + n\n",
    "\n",
    "# Example usage:\n",
    "n = 8\n",
    "result_b = recurrence_b(n)\n",
    "print(f\"T({n}) = {result_b}\")\n"
   ]
  },
  {
   "cell_type": "code",
   "execution_count": null,
   "metadata": {},
   "outputs": [],
   "source": []
  }
 ],
 "metadata": {
  "kernelspec": {
   "display_name": "Python 3",
   "language": "python",
   "name": "python3"
  },
  "language_info": {
   "codemirror_mode": {
    "name": "ipython",
    "version": 3
   },
   "file_extension": ".py",
   "mimetype": "text/x-python",
   "name": "python",
   "nbconvert_exporter": "python",
   "pygments_lexer": "ipython3",
   "version": "3.11.1"
  }
 },
 "nbformat": 4,
 "nbformat_minor": 2
}
